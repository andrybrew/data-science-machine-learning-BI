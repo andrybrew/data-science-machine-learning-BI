{
  "nbformat": 4,
  "nbformat_minor": 0,
  "metadata": {
    "colab": {
      "provenance": [],
      "include_colab_link": true
    },
    "kernelspec": {
      "name": "python3",
      "display_name": "Python 3"
    },
    "language_info": {
      "name": "python"
    }
  },
  "cells": [
    {
      "cell_type": "markdown",
      "metadata": {
        "id": "view-in-github",
        "colab_type": "text"
      },
      "source": [
        "<a href=\"https://colab.research.google.com/github/andrybrew/data-science-machine-learning-BI/blob/main/006a_emotion_analysis_multi_class_bert.ipynb\" target=\"_parent\"><img src=\"https://colab.research.google.com/assets/colab-badge.svg\" alt=\"Open In Colab\"/></a>"
      ]
    },
    {
      "cell_type": "markdown",
      "metadata": {
        "id": "iDUZzG0xQKaI"
      },
      "source": [
        "# **Emotion Analysis with IndoBERT (Multi-Class Classification)**\n",
        "\n",
        "This notebook will demonstrate how to analyze emotions using **IndoBERT**, a pre-trained transformer model specialized for the Indonesian language. The dataset to be analyzed will consist of Twitter posts related to interest rate policies by **Bank Indonesia**."
      ]
    },
    {
      "cell_type": "markdown",
      "source": [
        "\n",
        "\n",
        "## **Interest Rate Dataset**\n",
        "The interest rate is a critical tool used by central banks like **Bank Indonesia** to influence the country's economic activities. It affects how much it costs to borrow money and the return on savings, thus directly impacting people's spending and saving behaviors.\n",
        "\n",
        "The recent decision by the **Board of Governors of Bank Indonesia** to increase the **BI-7 day reverse repo rate** by **25 basis points to 6%** is a strategic move to tackle economic challenges like **inflation** or **currency depreciation**. Such changes can have significant effects on various sectors, including loans, mortgages, savings, and investments. Understanding the public's reaction to the interest rate hike will yield insights into the general sentiment and expectations of this policy decision on everyday lives and economic outlooks.\n",
        "\n",
        "### **Data Source:** Twitter  \n",
        "- **Keyword:** suku bunga since:2023-10-19  \n",
        "- **Collection Date:** October 22, 2023  \n",
        "- **Total Tweets:** 503  \n",
        "- **Language:** Bahasa Indonesia  \n"
      ],
      "metadata": {
        "id": "V_CalVwhsn_0"
      }
    },
    {
      "cell_type": "markdown",
      "source": [
        "## **Importing Required Libraries**\n",
        "We will install and import the necessary libraries for text processing, emotion classification, and visualization."
      ],
      "metadata": {
        "id": "vNsHF1m8SGWo"
      }
    },
    {
      "cell_type": "code",
      "execution_count": 1,
      "metadata": {
        "id": "xw1mxj2JQWzq"
      },
      "outputs": [],
      "source": [
        "# Install Huggingface Transformers\n",
        "! pip install huggingface transformers --quiet"
      ]
    },
    {
      "cell_type": "code",
      "source": [
        "import pandas as pd\n",
        "import seaborn as sns\n",
        "from transformers import pipeline, AutoTokenizer, AutoModelForSequenceClassification"
      ],
      "metadata": {
        "id": "6wZWQoXCTgZ4"
      },
      "execution_count": 2,
      "outputs": []
    },
    {
      "cell_type": "markdown",
      "source": [
        "\n",
        "\n",
        "## **Importing Dataset**\n",
        "We will load the dataset using **pandas.read_csv()** from a publicly available URL."
      ],
      "metadata": {
        "id": "OWmOaOF4WDR0"
      }
    },
    {
      "cell_type": "code",
      "source": [
        "# Fetching the dataset from GitHub\n",
        "data_url = \"https://raw.githubusercontent.com/andrybrew/IHT-SEM1302-30Okt/main/data/001_suku-bunga.csv\"\n",
        "\n",
        "# Using pandas read_csv function to load the data from the URL directly into a DataFrame\n",
        "df_tweet = pd.read_csv(data_url)"
      ],
      "metadata": {
        "id": "jZpa9wOZWMdp"
      },
      "execution_count": 3,
      "outputs": []
    },
    {
      "cell_type": "markdown",
      "source": [
        "\n",
        "\n",
        "## **Loading the IndoBERT Model**\n",
        "We will use the **thoriqfy/indobert-emotion-classification** model from Hugging Face to classify emotions. The necessary tokenizer and model will be set up for processing."
      ],
      "metadata": {
        "id": "-qoAExhiSqfF"
      }
    },
    {
      "cell_type": "code",
      "source": [
        "# Download Pretrained Model for Emotion Classification\n",
        "emotion_pretrained = \"thoriqfy/indobert-emotion-classification\"\n",
        "\n",
        "# Set Model and Tokenizer for Emotion Classification\n",
        "from transformers import AutoTokenizer, AutoModelForSequenceClassification\n",
        "emotion_tokenizer = AutoTokenizer.from_pretrained(emotion_pretrained)\n",
        "emotion_model = AutoModelForSequenceClassification.from_pretrained(emotion_pretrained)\n",
        "\n",
        "# Create emotion classifier using huggingface pipeline\n",
        "emotion_analysis = pipeline(\"text-classification\", model=emotion_model, tokenizer=emotion_tokenizer)"
      ],
      "metadata": {
        "id": "N-iz-igUVWJd",
        "colab": {
          "base_uri": "https://localhost:8080/"
        },
        "outputId": "a9e352c8-4cf8-465a-98fd-597251eb57b3"
      },
      "execution_count": 6,
      "outputs": [
        {
          "output_type": "stream",
          "name": "stderr",
          "text": [
            "Device set to use cpu\n"
          ]
        }
      ]
    },
    {
      "cell_type": "code",
      "source": [
        "# Download Pretrained Model\n",
        "pretrained = \"thoriqfy/indobert-emotion-classification\""
      ],
      "metadata": {
        "id": "Fv3lvARZagIP"
      },
      "execution_count": 8,
      "outputs": []
    },
    {
      "cell_type": "code",
      "execution_count": 9,
      "metadata": {
        "id": "GBQjyYIwQLTl",
        "colab": {
          "base_uri": "https://localhost:8080/"
        },
        "outputId": "79abc4e1-be49-43ee-ad2e-fc1e74d047c2"
      },
      "outputs": [
        {
          "output_type": "stream",
          "name": "stderr",
          "text": [
            "Device set to use cpu\n"
          ]
        }
      ],
      "source": [
        "# Set Model and Tokenizer\n",
        "model = AutoModelForSequenceClassification.from_pretrained(pretrained)\n",
        "tokenizer = AutoTokenizer.from_pretrained(pretrained)\n",
        "\n",
        "# Create sentiment classifier using huggingface pipeline\n",
        "emotion_analysis = pipeline(\"text-classification\", model=model, tokenizer=tokenizer)"
      ]
    },
    {
      "cell_type": "markdown",
      "source": [
        "\n",
        "\n",
        "## **Performing Emotion Analysis**\n",
        "We will apply **IndoBERT** to classify each tweet into multiple emotion categories. The classification will include:\n",
        "- Tokenizing and truncating text to match model input requirements.\n",
        "- Predicting emotion labels based on model outputs.\n",
        "- Mapping predictions to predefined emotion categories."
      ],
      "metadata": {
        "id": "MsHKzXMlWP2G"
      }
    },
    {
      "cell_type": "code",
      "execution_count": 10,
      "metadata": {
        "id": "PCq8skXQQxli"
      },
      "outputs": [],
      "source": [
        "def get_emotion(text):\n",
        "    # Tokenize text and truncate to ensure it doesn't exceed the maximum limit\n",
        "    tokens = tokenizer.tokenize(text)\n",
        "    tokens = tokens[:min(len(tokens), 512 - 2)]  # 2 tokens for [CLS] and [SEP]\n",
        "\n",
        "    # Convert tokens back to string\n",
        "    truncated_text = tokenizer.convert_tokens_to_string(tokens)\n",
        "\n",
        "    # Get emotion\n",
        "    output = emotion_analysis(truncated_text)[0]\n",
        "    label = output['label']\n",
        "    score = output['score']\n",
        "    return label, score"
      ]
    },
    {
      "cell_type": "code",
      "source": [
        "# Test with one sentence\n",
        "text = \"Kebijakannya kacau balau\"\n",
        "emotion, score = get_emotion(text)\n",
        "print(f'The emotion is: {emotion} with a score of: {score}')"
      ],
      "metadata": {
        "id": "z7NGB8Q4bmeG",
        "colab": {
          "base_uri": "https://localhost:8080/"
        },
        "outputId": "6cc9673b-58e7-4c0e-f924-12f29eda1e9f"
      },
      "execution_count": 11,
      "outputs": [
        {
          "output_type": "stream",
          "name": "stdout",
          "text": [
            "The emotion is: Anger with a score of: 0.745032012462616\n"
          ]
        }
      ]
    },
    {
      "cell_type": "markdown",
      "source": [
        "\n",
        "\n",
        "## **Applying Emotion Analysis to Dataset**\n",
        "We will apply the emotion classification function to each row in the dataset and create new columns for:\n",
        "- **Emotion Label** (e.g., Sadness, Anger, Happy, etc.)\n",
        "- **Confidence Score** of the classification"
      ],
      "metadata": {
        "id": "xmNiV1_KWbAE"
      }
    },
    {
      "cell_type": "code",
      "source": [
        "# Get emotion label for each row in dataframe\n",
        "df_tweet[['emotion', 'score']] = df_tweet['text'].apply(lambda x: pd.Series(get_emotion(x)))"
      ],
      "metadata": {
        "id": "TBbZjOs9bk4z"
      },
      "execution_count": 12,
      "outputs": []
    },
    {
      "cell_type": "code",
      "execution_count": 13,
      "metadata": {
        "id": "pnhAo-kYXVD2",
        "colab": {
          "base_uri": "https://localhost:8080/",
          "height": 885
        },
        "outputId": "f8467fe5-6278-4378-cd55-2cb046b42c48"
      },
      "outputs": [
        {
          "output_type": "execute_result",
          "data": {
            "text/plain": [
              "                                                  text  emotion     score\n",
              "0    Disiplin Fiskal: Rasio utang lebih dari 60% da...  Neutral  0.997473\n",
              "1    BI Kerek Suku Bunga Acuan, Pengusaha Berharap ...  Neutral  0.973557\n",
              "2    [BREAKING] Bank Indonesia menaikkan suku bunga...  Neutral  0.993195\n",
              "3    #EURUSD  : Menanti Kebijakan Suku Bunga ECB an...  Neutral  0.996338\n",
              "4    Muncul di browse youtube gua video finfluencer...    Anger  0.995824\n",
              "..                                                 ...      ...       ...\n",
              "498  Terbaru! Konsensus Ekonom Ramal BI Tahan Suku ...  Neutral  0.987443\n",
              "499  IHSG Diprediksi Sideways Menanti Suku Bunga BI...  Neutral  0.988282\n",
              "500  Selepas keluar dari Mesir, Bani Israil mendiri...  Neutral  0.998441\n",
              "501  Pagi. Semalam bursa AS ditutup melemah di teng...  Neutral  0.992391\n",
              "502  PDB China kuartal III + 4.9%,Wallstreet ditutu...  Neutral  0.998256\n",
              "\n",
              "[503 rows x 3 columns]"
            ],
            "text/html": [
              "\n",
              "  <div id=\"df-57e9f574-4ce0-4682-a6c9-f895f31e00db\" class=\"colab-df-container\">\n",
              "    <div>\n",
              "<style scoped>\n",
              "    .dataframe tbody tr th:only-of-type {\n",
              "        vertical-align: middle;\n",
              "    }\n",
              "\n",
              "    .dataframe tbody tr th {\n",
              "        vertical-align: top;\n",
              "    }\n",
              "\n",
              "    .dataframe thead th {\n",
              "        text-align: right;\n",
              "    }\n",
              "</style>\n",
              "<table border=\"1\" class=\"dataframe\">\n",
              "  <thead>\n",
              "    <tr style=\"text-align: right;\">\n",
              "      <th></th>\n",
              "      <th>text</th>\n",
              "      <th>emotion</th>\n",
              "      <th>score</th>\n",
              "    </tr>\n",
              "  </thead>\n",
              "  <tbody>\n",
              "    <tr>\n",
              "      <th>0</th>\n",
              "      <td>Disiplin Fiskal: Rasio utang lebih dari 60% da...</td>\n",
              "      <td>Neutral</td>\n",
              "      <td>0.997473</td>\n",
              "    </tr>\n",
              "    <tr>\n",
              "      <th>1</th>\n",
              "      <td>BI Kerek Suku Bunga Acuan, Pengusaha Berharap ...</td>\n",
              "      <td>Neutral</td>\n",
              "      <td>0.973557</td>\n",
              "    </tr>\n",
              "    <tr>\n",
              "      <th>2</th>\n",
              "      <td>[BREAKING] Bank Indonesia menaikkan suku bunga...</td>\n",
              "      <td>Neutral</td>\n",
              "      <td>0.993195</td>\n",
              "    </tr>\n",
              "    <tr>\n",
              "      <th>3</th>\n",
              "      <td>#EURUSD  : Menanti Kebijakan Suku Bunga ECB an...</td>\n",
              "      <td>Neutral</td>\n",
              "      <td>0.996338</td>\n",
              "    </tr>\n",
              "    <tr>\n",
              "      <th>4</th>\n",
              "      <td>Muncul di browse youtube gua video finfluencer...</td>\n",
              "      <td>Anger</td>\n",
              "      <td>0.995824</td>\n",
              "    </tr>\n",
              "    <tr>\n",
              "      <th>...</th>\n",
              "      <td>...</td>\n",
              "      <td>...</td>\n",
              "      <td>...</td>\n",
              "    </tr>\n",
              "    <tr>\n",
              "      <th>498</th>\n",
              "      <td>Terbaru! Konsensus Ekonom Ramal BI Tahan Suku ...</td>\n",
              "      <td>Neutral</td>\n",
              "      <td>0.987443</td>\n",
              "    </tr>\n",
              "    <tr>\n",
              "      <th>499</th>\n",
              "      <td>IHSG Diprediksi Sideways Menanti Suku Bunga BI...</td>\n",
              "      <td>Neutral</td>\n",
              "      <td>0.988282</td>\n",
              "    </tr>\n",
              "    <tr>\n",
              "      <th>500</th>\n",
              "      <td>Selepas keluar dari Mesir, Bani Israil mendiri...</td>\n",
              "      <td>Neutral</td>\n",
              "      <td>0.998441</td>\n",
              "    </tr>\n",
              "    <tr>\n",
              "      <th>501</th>\n",
              "      <td>Pagi. Semalam bursa AS ditutup melemah di teng...</td>\n",
              "      <td>Neutral</td>\n",
              "      <td>0.992391</td>\n",
              "    </tr>\n",
              "    <tr>\n",
              "      <th>502</th>\n",
              "      <td>PDB China kuartal III + 4.9%,Wallstreet ditutu...</td>\n",
              "      <td>Neutral</td>\n",
              "      <td>0.998256</td>\n",
              "    </tr>\n",
              "  </tbody>\n",
              "</table>\n",
              "<p>503 rows × 3 columns</p>\n",
              "</div>\n",
              "    <div class=\"colab-df-buttons\">\n",
              "\n",
              "  <div class=\"colab-df-container\">\n",
              "    <button class=\"colab-df-convert\" onclick=\"convertToInteractive('df-57e9f574-4ce0-4682-a6c9-f895f31e00db')\"\n",
              "            title=\"Convert this dataframe to an interactive table.\"\n",
              "            style=\"display:none;\">\n",
              "\n",
              "  <svg xmlns=\"http://www.w3.org/2000/svg\" height=\"24px\" viewBox=\"0 -960 960 960\">\n",
              "    <path d=\"M120-120v-720h720v720H120Zm60-500h600v-160H180v160Zm220 220h160v-160H400v160Zm0 220h160v-160H400v160ZM180-400h160v-160H180v160Zm440 0h160v-160H620v160ZM180-180h160v-160H180v160Zm440 0h160v-160H620v160Z\"/>\n",
              "  </svg>\n",
              "    </button>\n",
              "\n",
              "  <style>\n",
              "    .colab-df-container {\n",
              "      display:flex;\n",
              "      gap: 12px;\n",
              "    }\n",
              "\n",
              "    .colab-df-convert {\n",
              "      background-color: #E8F0FE;\n",
              "      border: none;\n",
              "      border-radius: 50%;\n",
              "      cursor: pointer;\n",
              "      display: none;\n",
              "      fill: #1967D2;\n",
              "      height: 32px;\n",
              "      padding: 0 0 0 0;\n",
              "      width: 32px;\n",
              "    }\n",
              "\n",
              "    .colab-df-convert:hover {\n",
              "      background-color: #E2EBFA;\n",
              "      box-shadow: 0px 1px 2px rgba(60, 64, 67, 0.3), 0px 1px 3px 1px rgba(60, 64, 67, 0.15);\n",
              "      fill: #174EA6;\n",
              "    }\n",
              "\n",
              "    .colab-df-buttons div {\n",
              "      margin-bottom: 4px;\n",
              "    }\n",
              "\n",
              "    [theme=dark] .colab-df-convert {\n",
              "      background-color: #3B4455;\n",
              "      fill: #D2E3FC;\n",
              "    }\n",
              "\n",
              "    [theme=dark] .colab-df-convert:hover {\n",
              "      background-color: #434B5C;\n",
              "      box-shadow: 0px 1px 3px 1px rgba(0, 0, 0, 0.15);\n",
              "      filter: drop-shadow(0px 1px 2px rgba(0, 0, 0, 0.3));\n",
              "      fill: #FFFFFF;\n",
              "    }\n",
              "  </style>\n",
              "\n",
              "    <script>\n",
              "      const buttonEl =\n",
              "        document.querySelector('#df-57e9f574-4ce0-4682-a6c9-f895f31e00db button.colab-df-convert');\n",
              "      buttonEl.style.display =\n",
              "        google.colab.kernel.accessAllowed ? 'block' : 'none';\n",
              "\n",
              "      async function convertToInteractive(key) {\n",
              "        const element = document.querySelector('#df-57e9f574-4ce0-4682-a6c9-f895f31e00db');\n",
              "        const dataTable =\n",
              "          await google.colab.kernel.invokeFunction('convertToInteractive',\n",
              "                                                    [key], {});\n",
              "        if (!dataTable) return;\n",
              "\n",
              "        const docLinkHtml = 'Like what you see? Visit the ' +\n",
              "          '<a target=\"_blank\" href=https://colab.research.google.com/notebooks/data_table.ipynb>data table notebook</a>'\n",
              "          + ' to learn more about interactive tables.';\n",
              "        element.innerHTML = '';\n",
              "        dataTable['output_type'] = 'display_data';\n",
              "        await google.colab.output.renderOutput(dataTable, element);\n",
              "        const docLink = document.createElement('div');\n",
              "        docLink.innerHTML = docLinkHtml;\n",
              "        element.appendChild(docLink);\n",
              "      }\n",
              "    </script>\n",
              "  </div>\n",
              "\n",
              "\n",
              "    <div id=\"df-19f7d14d-be02-4646-aca3-debeb3cc3f87\">\n",
              "      <button class=\"colab-df-quickchart\" onclick=\"quickchart('df-19f7d14d-be02-4646-aca3-debeb3cc3f87')\"\n",
              "                title=\"Suggest charts\"\n",
              "                style=\"display:none;\">\n",
              "\n",
              "<svg xmlns=\"http://www.w3.org/2000/svg\" height=\"24px\"viewBox=\"0 0 24 24\"\n",
              "     width=\"24px\">\n",
              "    <g>\n",
              "        <path d=\"M19 3H5c-1.1 0-2 .9-2 2v14c0 1.1.9 2 2 2h14c1.1 0 2-.9 2-2V5c0-1.1-.9-2-2-2zM9 17H7v-7h2v7zm4 0h-2V7h2v10zm4 0h-2v-4h2v4z\"/>\n",
              "    </g>\n",
              "</svg>\n",
              "      </button>\n",
              "\n",
              "<style>\n",
              "  .colab-df-quickchart {\n",
              "      --bg-color: #E8F0FE;\n",
              "      --fill-color: #1967D2;\n",
              "      --hover-bg-color: #E2EBFA;\n",
              "      --hover-fill-color: #174EA6;\n",
              "      --disabled-fill-color: #AAA;\n",
              "      --disabled-bg-color: #DDD;\n",
              "  }\n",
              "\n",
              "  [theme=dark] .colab-df-quickchart {\n",
              "      --bg-color: #3B4455;\n",
              "      --fill-color: #D2E3FC;\n",
              "      --hover-bg-color: #434B5C;\n",
              "      --hover-fill-color: #FFFFFF;\n",
              "      --disabled-bg-color: #3B4455;\n",
              "      --disabled-fill-color: #666;\n",
              "  }\n",
              "\n",
              "  .colab-df-quickchart {\n",
              "    background-color: var(--bg-color);\n",
              "    border: none;\n",
              "    border-radius: 50%;\n",
              "    cursor: pointer;\n",
              "    display: none;\n",
              "    fill: var(--fill-color);\n",
              "    height: 32px;\n",
              "    padding: 0;\n",
              "    width: 32px;\n",
              "  }\n",
              "\n",
              "  .colab-df-quickchart:hover {\n",
              "    background-color: var(--hover-bg-color);\n",
              "    box-shadow: 0 1px 2px rgba(60, 64, 67, 0.3), 0 1px 3px 1px rgba(60, 64, 67, 0.15);\n",
              "    fill: var(--button-hover-fill-color);\n",
              "  }\n",
              "\n",
              "  .colab-df-quickchart-complete:disabled,\n",
              "  .colab-df-quickchart-complete:disabled:hover {\n",
              "    background-color: var(--disabled-bg-color);\n",
              "    fill: var(--disabled-fill-color);\n",
              "    box-shadow: none;\n",
              "  }\n",
              "\n",
              "  .colab-df-spinner {\n",
              "    border: 2px solid var(--fill-color);\n",
              "    border-color: transparent;\n",
              "    border-bottom-color: var(--fill-color);\n",
              "    animation:\n",
              "      spin 1s steps(1) infinite;\n",
              "  }\n",
              "\n",
              "  @keyframes spin {\n",
              "    0% {\n",
              "      border-color: transparent;\n",
              "      border-bottom-color: var(--fill-color);\n",
              "      border-left-color: var(--fill-color);\n",
              "    }\n",
              "    20% {\n",
              "      border-color: transparent;\n",
              "      border-left-color: var(--fill-color);\n",
              "      border-top-color: var(--fill-color);\n",
              "    }\n",
              "    30% {\n",
              "      border-color: transparent;\n",
              "      border-left-color: var(--fill-color);\n",
              "      border-top-color: var(--fill-color);\n",
              "      border-right-color: var(--fill-color);\n",
              "    }\n",
              "    40% {\n",
              "      border-color: transparent;\n",
              "      border-right-color: var(--fill-color);\n",
              "      border-top-color: var(--fill-color);\n",
              "    }\n",
              "    60% {\n",
              "      border-color: transparent;\n",
              "      border-right-color: var(--fill-color);\n",
              "    }\n",
              "    80% {\n",
              "      border-color: transparent;\n",
              "      border-right-color: var(--fill-color);\n",
              "      border-bottom-color: var(--fill-color);\n",
              "    }\n",
              "    90% {\n",
              "      border-color: transparent;\n",
              "      border-bottom-color: var(--fill-color);\n",
              "    }\n",
              "  }\n",
              "</style>\n",
              "\n",
              "      <script>\n",
              "        async function quickchart(key) {\n",
              "          const quickchartButtonEl =\n",
              "            document.querySelector('#' + key + ' button');\n",
              "          quickchartButtonEl.disabled = true;  // To prevent multiple clicks.\n",
              "          quickchartButtonEl.classList.add('colab-df-spinner');\n",
              "          try {\n",
              "            const charts = await google.colab.kernel.invokeFunction(\n",
              "                'suggestCharts', [key], {});\n",
              "          } catch (error) {\n",
              "            console.error('Error during call to suggestCharts:', error);\n",
              "          }\n",
              "          quickchartButtonEl.classList.remove('colab-df-spinner');\n",
              "          quickchartButtonEl.classList.add('colab-df-quickchart-complete');\n",
              "        }\n",
              "        (() => {\n",
              "          let quickchartButtonEl =\n",
              "            document.querySelector('#df-19f7d14d-be02-4646-aca3-debeb3cc3f87 button');\n",
              "          quickchartButtonEl.style.display =\n",
              "            google.colab.kernel.accessAllowed ? 'block' : 'none';\n",
              "        })();\n",
              "      </script>\n",
              "    </div>\n",
              "\n",
              "    </div>\n",
              "  </div>\n"
            ],
            "application/vnd.google.colaboratory.intrinsic+json": {
              "type": "dataframe",
              "summary": "{\n  \"name\": \"df_tweet[['text', 'emotion', 'score']]\",\n  \"rows\": 503,\n  \"fields\": [\n    {\n      \"column\": \"text\",\n      \"properties\": {\n        \"dtype\": \"string\",\n        \"num_unique_values\": 473,\n        \"samples\": [\n          \"Kenaikan Suku Bunga BI Sia-Sia, Rupiah Bisa Makin Terpuruk!\\napahabar.com/post/kenaikan-s\\u2026\",\n          \"Rupiah tetap anjlok\\nDevisa abis buat intervensi\\nSuku bunga di naikkin,\\nKredit rumah makin mahal bisa mengakibatkan gagal bayar,\\nOrang gak berani pinjem uang ke bank untuk usaha, bunga tinggi. Ekonomi melambat, konsumsi berkurang, barang dagangan gak laku, pabrik kurangin buruh\",\n          \"BI terus melakukan inovasi utk meningkatkan efektivitas kebijakan moneter dlm memastikan inflasi terkendali & nilai tukar Rupiah ttp stabil. Kebijakan suku bunga diperkuat dgn penerbitan instrumen moneter SRBI yg pro-market, dlm rangka memperkuat upaya pendalaman pasar uang.\"\n        ],\n        \"semantic_type\": \"\",\n        \"description\": \"\"\n      }\n    },\n    {\n      \"column\": \"emotion\",\n      \"properties\": {\n        \"dtype\": \"category\",\n        \"num_unique_values\": 4,\n        \"samples\": [\n          \"Anger\",\n          \"Happy\",\n          \"Neutral\"\n        ],\n        \"semantic_type\": \"\",\n        \"description\": \"\"\n      }\n    },\n    {\n      \"column\": \"score\",\n      \"properties\": {\n        \"dtype\": \"number\",\n        \"std\": 0.08193528021759612,\n        \"min\": 0.5022377371788025,\n        \"max\": 0.998790442943573,\n        \"num_unique_values\": 472,\n        \"samples\": [\n          0.9724637866020203,\n          0.9891967177391052,\n          0.9971535205841064\n        ],\n        \"semantic_type\": \"\",\n        \"description\": \"\"\n      }\n    }\n  ]\n}"
            }
          },
          "metadata": {},
          "execution_count": 13
        }
      ],
      "source": [
        "# Show Tweet with emotion\n",
        "df_tweet[['text', 'emotion', 'score']]"
      ]
    },
    {
      "cell_type": "code",
      "execution_count": 14,
      "metadata": {
        "id": "aXtoH2KTVM0H",
        "colab": {
          "base_uri": "https://localhost:8080/",
          "height": 467
        },
        "outputId": "324304f1-dee9-44a1-bbd0-53167b5ca309"
      },
      "outputs": [
        {
          "output_type": "execute_result",
          "data": {
            "text/plain": [
              "<Axes: xlabel='emotion', ylabel='count'>"
            ]
          },
          "metadata": {},
          "execution_count": 14
        },
        {
          "output_type": "display_data",
          "data": {
            "text/plain": [
              "<Figure size 640x480 with 1 Axes>"
            ],
            "image/png": "[encoded data removed]"
          },
          "metadata": {}
        }
      ],
      "source": [
        "# Visualise the emotion distribution\n",
        "sns.countplot(x ='emotion', data = df_tweet)"
      ]
    }
  ]
}